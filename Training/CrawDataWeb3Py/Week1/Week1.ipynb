{
 "cells": [
  {
   "cell_type": "code",
   "execution_count": 11,
   "metadata": {},
   "outputs": [
    {
     "name": "stdout",
     "output_type": "stream",
     "text": [
      "Successful Connection: True \n",
      "The latest blocknumber is: 5\n"
     ]
    }
   ],
   "source": [
    "from web3 import HTTPProvider\n",
    "from web3 import Web3\n",
    "from web3.middleware import geth_poa_middleware\n",
    "import time\n",
    "import json\n",
    "\n",
    "provider_url = \"HTTP://127.0.0.1:7545\"  # rpc link\n",
    "web3 = Web3(HTTPProvider(provider_url))\n",
    "web3.middleware_onion.inject(geth_poa_middleware, layer=0)\n",
    "\n",
    "# check connect successfull\n",
    "isConnected = web3.is_connected()\n",
    "print(f\"Successful Connection: {isConnected} \")\n",
    "# check latest blocknumber\n",
    "blocknumber = web3.eth.block_number\n",
    "print(f\"The latest blocknumber is: {blocknumber}\")\n",
    "\n",
    "NumberBlock1 = 100\n",
    "NumberBlock2 = 1000\n",
    "end_block = blocknumber"
   ]
  },
  {
   "cell_type": "code",
   "execution_count": 12,
   "metadata": {},
   "outputs": [],
   "source": [
    "# lấy cấu trúc dữ liệu của abi\n",
    "with open(\"testERC20_ABI.json\", \"r\") as f:\n",
    "    abi = json.loads(f.read())\n",
    "# contract address\n",
    "address = \"0xCA954a230176E8EE83a2a4e24140264Ffd74EA5C\"\n",
    "# Kiểm tra xem địa chỉ có đúng không\n",
    "if not web3.is_address(address):\n",
    "    address = web3.toChecksumAddress(address)\n",
    "# Sử dụng web3 thiết lập đối tượng contract để sử dụng các phương thức\n",
    "contract = web3.eth.contract(abi=abi, address=address)"
   ]
  },
  {
   "cell_type": "code",
   "execution_count": 13,
   "metadata": {},
   "outputs": [],
   "source": [
    "# Crwal data\n",
    "start_block = 0\n",
    "\n",
    "\n",
    "# Transfer Event\n",
    "transferEvent = contract.events.Transfer.create_filter(fromBlock = start_block, toBlock = end_block).get_all_entries()\n",
    "event_transfer_list = []\n",
    "for event in transferEvent:\n",
    "    event_transfer_list.append(json.loads(web3.to_json(event)))\n",
    "    \n",
    "    \n",
    "# Purchase Event\n",
    "purchaseEvent = contract.events.Purchase.create_filter(fromBlock = start_block, toBlock = end_block).get_all_entries()\n",
    "event_purchase_list =[]\n",
    "for event in purchaseEvent:\n",
    "    event_purchase_list.append(json.loads(web3.to_json(event)))\n",
    "    \n",
    "    \n",
    "# Burn Event\n",
    "burnEvent = contract.events.Burn.create_filter(fromBlock = start_block, toBlock = end_block).get_all_entries()\n",
    "event_burn_list = []\n",
    "for event in burnEvent:\n",
    "    event_burn_list.append(json.loads(web3.to_json(event)))\n",
    "    \n",
    "    \n",
    "# Write data to file json\n",
    "\n",
    "result = dict()\n",
    "blocks_info = {\n",
    "    'startBlock': start_block,\n",
    "    'endBlock': end_block\n",
    "}\n",
    "result['blocksInfo'] = blocks_info\n",
    "result['transferEvents'] = event_transfer_list\n",
    "result['purchaseEvents'] = event_purchase_list\n",
    "result['burnEvents'] = event_burn_list\n",
    "json_obj = json.dumps(result, indent=2)\n",
    "with open('./Week1_Results.json', 'w') as f:\n",
    "    f.write(json_obj)\n"
   ]
  }
 ],
 "metadata": {
  "kernelspec": {
   "display_name": "Python 3",
   "language": "python",
   "name": "python3"
  },
  "language_info": {
   "codemirror_mode": {
    "name": "ipython",
    "version": 3
   },
   "file_extension": ".py",
   "mimetype": "text/x-python",
   "name": "python",
   "nbconvert_exporter": "python",
   "pygments_lexer": "ipython3",
   "version": "3.11.2"
  },
  "orig_nbformat": 4
 },
 "nbformat": 4,
 "nbformat_minor": 2
}
