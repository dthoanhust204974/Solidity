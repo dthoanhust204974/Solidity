{
 "cells": [
  {
   "cell_type": "code",
   "execution_count": 27,
   "metadata": {},
   "outputs": [
    {
     "name": "stdout",
     "output_type": "stream",
     "text": [
      "Successful Connection: True \n",
      "The latest blocknumber is: 9\n"
     ]
    }
   ],
   "source": [
    "from web3 import HTTPProvider\n",
    "from web3 import Web3\n",
    "from web3.middleware import geth_poa_middleware\n",
    "import time\n",
    "import json\n",
    "\n",
    "provider_url = \"HTTP://127.0.0.1:7545\"  # rpc link\n",
    "web3 = Web3(HTTPProvider(provider_url))\n",
    "web3.middleware_onion.inject(geth_poa_middleware, layer=0)\n",
    "\n",
    "# check connect successfull\n",
    "isConnected = web3.is_connected()\n",
    "print(f\"Successful Connection: {isConnected} \")\n",
    "# check latest blocknumber\n",
    "blocknumber = web3.eth.block_number\n",
    "print(f\"The latest blocknumber is: {blocknumber}\")\n",
    "\n",
    "\n",
    "NumberBlock1 = 100\n",
    "NumberBlock2 = 1000\n",
    "end_block = blocknumber"
   ]
  },
  {
   "cell_type": "code",
   "execution_count": 28,
   "metadata": {},
   "outputs": [],
   "source": [
    "# lấy cấu trúc dữ liệu của abi\n",
    "with open(\"erc_20.json\", \"r\") as f:\n",
    "    abi = json.loads(f.read())\n",
    "# contract address\n",
    "address = \"0x23f74B16C76570279Ef60c89Ba4AF2553e6C495D\"\n",
    "# Kiểm tra xem địa chỉ có đúng không\n",
    "if not web3.is_address(address):\n",
    "    address = web3.toChecksumAddress(address)\n",
    "# Sử dụng web3 thiết lập đối tượng contract để sử dụng các phương thức\n",
    "contract = web3.eth.contract(abi=abi, address=address)"
   ]
  },
  {
   "cell_type": "code",
   "execution_count": 29,
   "metadata": {},
   "outputs": [],
   "source": [
    "# Crawl data\n",
    "start_block = 0\n",
    "\n",
    "\n",
    "# Transfer Event\n",
    "transferEvent = contract.events.Transfer.create_filter(fromBlock = start_block, toBlock = end_block).get_all_entries()\n",
    "event_transfer_list = []\n",
    "for event in transferEvent:\n",
    "    event_transfer_list.append(json.loads(web3.to_json(event)))\n",
    "    \n",
    "# Write data to file json\n",
    "\n",
    "result = dict()\n",
    "blocks_info = {\n",
    "    'startBlock': start_block,\n",
    "    'endBlock': end_block\n",
    "}\n",
    "result['blocksInfo'] = blocks_info\n",
    "result['transferEvents'] = event_transfer_list\n",
    "json_obj = json.dumps(result, indent=2)\n",
    "with open('./Results.json', 'w') as f:\n",
    "    f.write(json_obj)\n"
   ]
  },
  {
   "cell_type": "code",
   "execution_count": 32,
   "metadata": {},
   "outputs": [
    {
     "ename": "ABIEventFunctionNotFound",
     "evalue": "(\"The event 'allevents' was not found in this contract's abi. \", 'Are you sure you provided the correct contract abi?')",
     "output_type": "error",
     "traceback": [
      "\u001b[1;31m---------------------------------------------------------------------------\u001b[0m",
      "\u001b[1;31mABIEventFunctionNotFound\u001b[0m                  Traceback (most recent call last)",
      "Cell \u001b[1;32mIn[32], line 1\u001b[0m\n\u001b[1;32m----> 1\u001b[0m events \u001b[39m=\u001b[39m contract\u001b[39m.\u001b[39;49mevents\u001b[39m.\u001b[39;49mallevents()\u001b[39m.\u001b[39mgetLogs({\n\u001b[0;32m      2\u001b[0m     \u001b[39m'\u001b[39m\u001b[39mfromBlock\u001b[39m\u001b[39m'\u001b[39m: \u001b[39m0\u001b[39m,\n\u001b[0;32m      3\u001b[0m     \u001b[39m'\u001b[39m\u001b[39mtoBlock\u001b[39m\u001b[39m'\u001b[39m: \u001b[39m'\u001b[39m\u001b[39mlatest\u001b[39m\u001b[39m'\u001b[39m\n\u001b[0;32m      4\u001b[0m })\n",
      "File \u001b[1;32mc:\\Users\\Dao Trong Hoan\\AppData\\Local\\Programs\\Python\\Python311\\Lib\\site-packages\\web3\\contract\\base_contract.py:525\u001b[0m, in \u001b[0;36mBaseContractEvents.__getattr__\u001b[1;34m(self, event_name)\u001b[0m\n\u001b[0;32m    520\u001b[0m     \u001b[39mraise\u001b[39;00m NoABIEventsFound(\n\u001b[0;32m    521\u001b[0m         \u001b[39m\"\u001b[39m\u001b[39mThe abi for this contract contains no event definitions. \u001b[39m\u001b[39m\"\u001b[39m,\n\u001b[0;32m    522\u001b[0m         \u001b[39m\"\u001b[39m\u001b[39mAre you sure you provided the correct contract abi?\u001b[39m\u001b[39m\"\u001b[39m,\n\u001b[0;32m    523\u001b[0m     )\n\u001b[0;32m    524\u001b[0m \u001b[39melif\u001b[39;00m event_name \u001b[39mnot\u001b[39;00m \u001b[39min\u001b[39;00m \u001b[39mself\u001b[39m\u001b[39m.\u001b[39m\u001b[39m__dict__\u001b[39m[\u001b[39m\"\u001b[39m\u001b[39m_events\u001b[39m\u001b[39m\"\u001b[39m]:\n\u001b[1;32m--> 525\u001b[0m     \u001b[39mraise\u001b[39;00m ABIEventFunctionNotFound(\n\u001b[0;32m    526\u001b[0m         \u001b[39mf\u001b[39m\u001b[39m\"\u001b[39m\u001b[39mThe event \u001b[39m\u001b[39m'\u001b[39m\u001b[39m{\u001b[39;00mevent_name\u001b[39m}\u001b[39;00m\u001b[39m'\u001b[39m\u001b[39m was not found in this contract\u001b[39m\u001b[39m'\u001b[39m\u001b[39ms abi. \u001b[39m\u001b[39m\"\u001b[39m,\n\u001b[0;32m    527\u001b[0m         \u001b[39m\"\u001b[39m\u001b[39mAre you sure you provided the correct contract abi?\u001b[39m\u001b[39m\"\u001b[39m,\n\u001b[0;32m    528\u001b[0m     )\n\u001b[0;32m    529\u001b[0m \u001b[39melse\u001b[39;00m:\n\u001b[0;32m    530\u001b[0m     \u001b[39mreturn\u001b[39;00m \u001b[39msuper\u001b[39m()\u001b[39m.\u001b[39m\u001b[39m__getattribute__\u001b[39m(event_name)\n",
      "\u001b[1;31mABIEventFunctionNotFound\u001b[0m: (\"The event 'allevents' was not found in this contract's abi. \", 'Are you sure you provided the correct contract abi?')"
     ]
    }
   ],
   "source": [
    "events = contract.events.allEvents().getLogs({\n",
    "    'fromBlock': 0,\n",
    "    'toBlock': 'latest'\n",
    "})\n"
   ]
  }
 ],
 "metadata": {
  "kernelspec": {
   "display_name": "Python 3",
   "language": "python",
   "name": "python3"
  },
  "language_info": {
   "codemirror_mode": {
    "name": "ipython",
    "version": 3
   },
   "file_extension": ".py",
   "mimetype": "text/x-python",
   "name": "python",
   "nbconvert_exporter": "python",
   "pygments_lexer": "ipython3",
   "version": "3.11.2"
  },
  "orig_nbformat": 4
 },
 "nbformat": 4,
 "nbformat_minor": 2
}
